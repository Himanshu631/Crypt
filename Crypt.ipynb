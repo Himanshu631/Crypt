{
 "cells": [
  {
   "cell_type": "code",
   "execution_count": 1,
   "id": "2c997e33",
   "metadata": {},
   "outputs": [
    {
     "data": {
      "text/plain": [
       "'3.9.7 (default, Sep 16 2021, 16:59:28) [MSC v.1916 64 bit (AMD64)]'"
      ]
     },
     "execution_count": 1,
     "metadata": {},
     "output_type": "execute_result"
    }
   ],
   "source": [
    "import sys\n",
    "sys.version"
   ]
  },
  {
   "cell_type": "code",
   "execution_count": 2,
   "id": "fecc450a",
   "metadata": {},
   "outputs": [],
   "source": [
    "from Crypto.Cipher import AES\n",
    "from Crypto.Hash import SHA256"
   ]
  },
  {
   "cell_type": "code",
   "execution_count": 3,
   "id": "4fb2bda3",
   "metadata": {},
   "outputs": [
    {
     "name": "stdout",
     "output_type": "stream",
     "text": [
      "Enter Password 1234Himanshu\n"
     ]
    }
   ],
   "source": [
    "password = input(\"Enter Password \")"
   ]
  },
  {
   "cell_type": "code",
   "execution_count": 4,
   "id": "0effd299",
   "metadata": {},
   "outputs": [],
   "source": [
    "hash_obj = SHA256.new(password.encode('utf-8'))"
   ]
  },
  {
   "cell_type": "code",
   "execution_count": 5,
   "id": "2263e334",
   "metadata": {},
   "outputs": [],
   "source": [
    "hkey = hash_obj.digest()"
   ]
  },
  {
   "cell_type": "code",
   "execution_count": 6,
   "id": "f72dec25",
   "metadata": {},
   "outputs": [
    {
     "name": "stdout",
     "output_type": "stream",
     "text": [
      "b'<\\x84\\t\\xbe\\xb4\\xbe?\\xa2\\xc0\\xe3.\\x92\\x84\\x83%x\\x87X\\x89\\x80\\x1cL\\xe8\\xab3#\\x08\\x9b\\x18\\xae\\xf6n'\n"
     ]
    }
   ],
   "source": [
    "print(hkey)"
   ]
  },
  {
   "cell_type": "code",
   "execution_count": 7,
   "id": "4dee5fb1",
   "metadata": {},
   "outputs": [
    {
     "data": {
      "text/plain": [
       "32"
      ]
     },
     "execution_count": 7,
     "metadata": {},
     "output_type": "execute_result"
    }
   ],
   "source": [
    "len(hkey)"
   ]
  },
  {
   "cell_type": "code",
   "execution_count": 8,
   "id": "dd31ad6f",
   "metadata": {},
   "outputs": [],
   "source": [
    "def encrypt(info):\n",
    "    mag = info\n",
    "    BLOCK_SIZE = 16\n",
    "    PAD = \"{\"\n",
    "    padding = lambda s: s + (BLOCK_SIZE -len(s) % BLOCK_SIZE)* PAD\n",
    "    cipher = AES.new(hkey,AES.MODE_ECB)\n",
    "    res = cipher.encrypt(padding(mag).encode('utf-8'))\n",
    "    return res"
   ]
  },
  {
   "cell_type": "code",
   "execution_count": 9,
   "id": "e8ef5bea",
   "metadata": {},
   "outputs": [],
   "source": [
    "mag = \"I am a Student\""
   ]
  },
  {
   "cell_type": "code",
   "execution_count": 10,
   "id": "7876d5f0",
   "metadata": {},
   "outputs": [
    {
     "name": "stdout",
     "output_type": "stream",
     "text": [
      "b'\\xe3\\xd8\\x0b~|\\xceE\\x1a\\xfe\\xbb\\xf5\\xf0\\xa8r\\xa5\\xe2'\n"
     ]
    }
   ],
   "source": [
    "cipher_text = encrypt(mag)\n",
    "print(cipher_text)"
   ]
  },
  {
   "cell_type": "code",
   "execution_count": 11,
   "id": "f6d88b6a",
   "metadata": {},
   "outputs": [
    {
     "name": "stdout",
     "output_type": "stream",
     "text": [
      "[b'\\xe3\\xd8', b'~|\\xceE\\x1a\\xfe\\xbb\\xf5\\xf0\\xa8r\\xa5\\xe2']\n"
     ]
    }
   ],
   "source": [
    "a = cipher_text.split()\n",
    "print(a)                      "
   ]
  },
  {
   "cell_type": "code",
   "execution_count": 12,
   "id": "0d5845c6",
   "metadata": {},
   "outputs": [],
   "source": [
    "def decrypt(info):\n",
    "    mag = info \n",
    "    PAD = \"{\"\n",
    "    decipher = AES.new(hkey, AES.MODE_ECB)\n",
    "    pt = decipher.decrypt(mag).decode('utf-8')\n",
    "    pad_index = pt.find(PAD)\n",
    "    res = pt[:pad_index]\n",
    "    return res "
   ]
  },
  {
   "cell_type": "code",
   "execution_count": 13,
   "id": "3274c34c",
   "metadata": {},
   "outputs": [
    {
     "data": {
      "text/plain": [
       "b'\\xe3\\xd8\\x0b~|\\xceE\\x1a\\xfe\\xbb\\xf5\\xf0\\xa8r\\xa5\\xe2'"
      ]
     },
     "execution_count": 13,
     "metadata": {},
     "output_type": "execute_result"
    }
   ],
   "source": [
    "cipher_text"
   ]
  },
  {
   "cell_type": "code",
   "execution_count": 14,
   "id": "601f8249",
   "metadata": {},
   "outputs": [
    {
     "name": "stdout",
     "output_type": "stream",
     "text": [
      "I am a Student\n"
     ]
    }
   ],
   "source": [
    "plainText = decrypt(cipher_text)\n",
    "print(plainText)"
   ]
  },
  {
   "cell_type": "code",
   "execution_count": 16,
   "id": "e51f0a5a",
   "metadata": {},
   "outputs": [
    {
     "name": "stdout",
     "output_type": "stream",
     "text": [
      "b'Xc^\\xbd\\x04\\xe6\\x86\\xc1o5.\\xa1\\xf5(W\\xa9\\xc4\\xec\\t\\x7f\\x86j&f3\\xdbS\\xf0y\\xd2\\x97^'\n"
     ]
    }
   ],
   "source": [
    "mag2 = \"I am a College Student\"\n",
    "cipher2 = encrypt(mag2)\n",
    "print(cipher2)"
   ]
  },
  {
   "cell_type": "code",
   "execution_count": 17,
   "id": "9f95d174",
   "metadata": {},
   "outputs": [
    {
     "name": "stdout",
     "output_type": "stream",
     "text": [
      "I am a College Student\n"
     ]
    }
   ],
   "source": [
    "plain2 = decrypt(cipher2)\n",
    "print(plain2)"
   ]
  },
  {
   "cell_type": "code",
   "execution_count": null,
   "id": "78283f24",
   "metadata": {},
   "outputs": [],
   "source": []
  }
 ],
 "metadata": {
  "kernelspec": {
   "display_name": "Python 3 (ipykernel)",
   "language": "python",
   "name": "python3"
  },
  "language_info": {
   "codemirror_mode": {
    "name": "ipython",
    "version": 3
   },
   "file_extension": ".py",
   "mimetype": "text/x-python",
   "name": "python",
   "nbconvert_exporter": "python",
   "pygments_lexer": "ipython3",
   "version": "3.9.7"
  }
 },
 "nbformat": 4,
 "nbformat_minor": 5
}
